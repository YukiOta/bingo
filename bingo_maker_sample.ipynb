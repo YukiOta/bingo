{
 "cells": [
  {
   "cell_type": "code",
   "execution_count": 119,
   "metadata": {
    "collapsed": false
   },
   "outputs": [],
   "source": [
    "from PIL import Image, ImageDraw, ImageFont\n",
    "import matplotlib.pyplot as plt\n",
    "import random"
   ]
  },
  {
   "cell_type": "code",
   "execution_count": 206,
   "metadata": {
    "collapsed": false
   },
   "outputs": [],
   "source": [
    "# init\n",
    "member_14 = [\n",
    "    \"member_1\",\n",
    "    \"member_2\",\n",
    "]\n",
    "\n",
    "member_15 = [\n",
    "    \"member_1\",\n",
    "    \"member_2\",\n",
    "]\n",
    "\n",
    "\n",
    "dict_member = {\n",
    "    \"14\": member_14,\n",
    "    \"15\": member_15,\n",
    "    \"16\": member_16,\n",
    "    \"17\": member_17,\n",
    "    \"18\": member_18,\n",
    "    \"19\": member_19,\n",
    "    \"20\": member_20,\n",
    "    \"21\": member_21\n",
    "}\n",
    "\n",
    "dict_pos = {}\n",
    "base = (105, 212)\n",
    "width_x = 252\n",
    "width_y = 165\n",
    "i = 1\n",
    "for x in range (5):\n",
    "    for y in range(5): \n",
    "        point = (base[0]+width_x*x, base[1]+width_y*y)\n",
    "        dict_pos[str(i)] = (point, (point[0]+width_x, point[1]+width_y))\n",
    "        i += 1\n",
    "        \n"
   ]
  },
  {
   "cell_type": "code",
   "execution_count": 221,
   "metadata": {
    "collapsed": false
   },
   "outputs": [],
   "source": [
    "# functions\n",
    "def show_img(img):\n",
    "    plt.figure()\n",
    "    plt.imshow(img)\n",
    "    plt.show()\n",
    "    \n",
    "def init_img():\n",
    "    return Image.open(\"./bingo.png\")\n",
    "\n",
    "# left-up corner is a point\n",
    "def draw_text(_img, _name, _dai, _pos):\n",
    "    draw= ImageDraw.Draw(_img)\n",
    "    font = ImageFont.truetype(\"./ipaexg.ttf\", 30)\n",
    "    p_name = (_pos[0][0]+20, _pos[0][1]+30)\n",
    "    p_dai = (_pos[0][0]+20, _pos[0][1]+80)\n",
    "    draw.text(p_name, _name, fill=(0, 0, 0), font=font)\n",
    "    draw.text(p_dai, str(_dai), fill=(0, 0, 0), font=font)\n",
    "    return _img\n",
    "\n",
    "def draw_dai(_img, _dai):\n",
    "    draw= ImageDraw.Draw(_img)\n",
    "    font = ImageFont.truetype(\"./ipaexg.ttf\", 25)\n",
    "    draw.text((1200, 170), \"for \"+str(_dai), fill=(0, 0, 0), font=font)\n",
    "    return _img"
   ]
  },
  {
   "cell_type": "code",
   "execution_count": 1,
   "metadata": {
    "collapsed": false,
    "scrolled": false
   },
   "outputs": [
    {
     "ename": "NameError",
     "evalue": "name 'dict_member' is not defined",
     "output_type": "error",
     "traceback": [
      "\u001b[0;31m---------------------------------------------------------------------------\u001b[0m",
      "\u001b[0;31mNameError\u001b[0m                                 Traceback (most recent call last)",
      "\u001b[0;32m<ipython-input-1-acc560eaf406>\u001b[0m in \u001b[0;36m<module>\u001b[0;34m()\u001b[0m\n\u001b[1;32m      6\u001b[0m \u001b[0;32mfor\u001b[0m \u001b[0mdai\u001b[0m \u001b[0;32min\u001b[0m \u001b[0mrange\u001b[0m\u001b[0;34m(\u001b[0m\u001b[0;36m14\u001b[0m\u001b[0;34m,\u001b[0m \u001b[0;36m22\u001b[0m\u001b[0;34m)\u001b[0m\u001b[0;34m:\u001b[0m\u001b[0;34m\u001b[0m\u001b[0m\n\u001b[1;32m      7\u001b[0m     \u001b[0;31m# set the 代\u001b[0m\u001b[0;34m\u001b[0m\u001b[0;34m\u001b[0m\u001b[0m\n\u001b[0;32m----> 8\u001b[0;31m     \u001b[0mtarget_dai_list\u001b[0m \u001b[0;34m=\u001b[0m \u001b[0mdict_member\u001b[0m\u001b[0;34m[\u001b[0m\u001b[0mstr\u001b[0m\u001b[0;34m(\u001b[0m\u001b[0mdai\u001b[0m\u001b[0;34m)\u001b[0m\u001b[0;34m]\u001b[0m\u001b[0;34m\u001b[0m\u001b[0m\n\u001b[0m\u001b[1;32m      9\u001b[0m     \u001b[0mlist_num\u001b[0m\u001b[0;34m.\u001b[0m\u001b[0mremove\u001b[0m\u001b[0;34m(\u001b[0m\u001b[0mdai\u001b[0m\u001b[0;34m)\u001b[0m\u001b[0;34m\u001b[0m\u001b[0m\n\u001b[1;32m     10\u001b[0m     \u001b[0;32mfor\u001b[0m \u001b[0mname\u001b[0m \u001b[0;32min\u001b[0m \u001b[0mtarget_dai_list\u001b[0m\u001b[0;34m:\u001b[0m\u001b[0;34m\u001b[0m\u001b[0m\n",
      "\u001b[0;31mNameError\u001b[0m: name 'dict_member' is not defined"
     ]
    }
   ],
   "source": [
    "# read image\n",
    "# img = Image.open(\"./bingo.png\")\n",
    "i = 1\n",
    "list_num = [14, 15, 16, 17, 18, 19, 20, 21]\n",
    "\n",
    "for dai in range(14, 22):\n",
    "    # set the dai\n",
    "    target_dai_list = dict_member[str(dai)] \n",
    "    list_num.remove(dai)\n",
    "    for name in target_dai_list:\n",
    "        img = Image.open(\"./bingo.png\")\n",
    "        img = draw_dai(img, dai)\n",
    "        name_cache = []\n",
    "        for key in dict_pos:\n",
    "            c_dai = random.choice(list_num)\n",
    "            c_name = random.choice(dict_member[str(c_dai)])\n",
    "            while c_name in name_cache:\n",
    "                c_name = random.choice(dict_member[str(c_dai)])\n",
    "            name_cache.append(c_name)\n",
    "            img = draw_text(img, c_name, c_dai, dict_pos[key])\n",
    "    show_img(img)\n",
    "    list_num.append(dai)\n",
    "    \n",
    "    \n",
    "    "
   ]
  }
 ],
 "metadata": {
  "anaconda-cloud": {},
  "kernelspec": {
   "display_name": "Python [conda env:anaconda3-4.2.0]",
   "language": "python",
   "name": "conda-env-anaconda3-4.2.0-py"
  },
  "language_info": {
   "codemirror_mode": {
    "name": "ipython",
    "version": 3
   },
   "file_extension": ".py",
   "mimetype": "text/x-python",
   "name": "python",
   "nbconvert_exporter": "python",
   "pygments_lexer": "ipython3",
   "version": "3.5.2"
  }
 },
 "nbformat": 4,
 "nbformat_minor": 1
}
